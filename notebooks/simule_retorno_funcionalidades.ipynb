{
 "cells": [
  {
   "cell_type": "markdown",
   "metadata": {},
   "source": [
    "# Simule o Retorno - Funcionalidades"
   ]
  },
  {
   "cell_type": "markdown",
   "metadata": {},
   "source": [
    "**Objetivo:** Obter projeções do número de alunos retornando às atividades escolares.\n",
    "\n",
    "**Autor:** Leonardo Dantas\n",
    "\n",
    "**Código base:** 872ca11"
   ]
  },
  {
   "cell_type": "markdown",
   "metadata": {},
   "source": [
    "## Bibliotecas"
   ]
  },
  {
   "cell_type": "code",
   "execution_count": 1,
   "metadata": {},
   "outputs": [],
   "source": [
    "import yaml\n",
    "from math import floor, ceil"
   ]
  },
  {
   "cell_type": "markdown",
   "metadata": {},
   "source": [
    "## Helper Code"
   ]
  },
  {
   "cell_type": "code",
   "execution_count": 2,
   "metadata": {},
   "outputs": [],
   "source": [
    "# Sample Config\n",
    "with open(\"simule.yaml\") as file:\n",
    "    config = yaml.safe_load(file)"
   ]
  },
  {
   "cell_type": "code",
   "execution_count": 3,
   "metadata": {},
   "outputs": [
    {
     "name": "stdout",
     "output_type": "stream",
     "text": [
      "Sanity Check: 3 \n",
      "Should say: 3\n"
     ]
    }
   ],
   "source": [
    "mask_time_limit = config[\"simule\"][\"supplies\"][\"mask_time_limit\"]\n",
    "print(\"Sanity Check: {} \\nShould say: 3\".format(mask_time_limit))"
   ]
  },
  {
   "cell_type": "markdown",
   "metadata": {},
   "source": [
    "## Retorno de Alunos e Professores"
   ]
  },
  {
   "cell_type": "code",
   "execution_count": 4,
   "metadata": {},
   "outputs": [],
   "source": [
    "def get_school_return_projections(total_students, total_teachers, perc_students_returning, perc_teachers_returning, \n",
    "                                  num_classrooms, selected_mode_return, config):\n",
    "    \"\"\" \n",
    "    Calculates projected number of students and teachers returning to school.\n",
    "    \n",
    "    Parameters\n",
    "    ----------\n",
    "        total_students : int or float\n",
    "            Total number of students in the school system.\n",
    "        total_teachers : int or float\n",
    "            Total number of teachers in the school system.\n",
    "        perc_students_returning : int or float\n",
    "            Percentage of students allowed to return. Range 0-100.\n",
    "        perc_teachers_returning: int or float\n",
    "            Percentage of teachers allowed to return. Range 0-100.\n",
    "        num_classrooms : int or float\n",
    "            Number of classrooms available.\n",
    "        selected_mode_return : string\n",
    "            Mode of return to school (e.g. priority, equitative...).\n",
    "        config : dict\n",
    "            General school return parameters.\n",
    "    \n",
    "    Returns\n",
    "    -------\n",
    "        num_returning_students : int\n",
    "            Projected numbers of students returning to school.\n",
    "        num_returning_teachers : int\n",
    "            Project number of teachers returning to school.\n",
    "    \"\"\"\n",
    "\n",
    "    # Load Fixed Parameters\n",
    "    max_students_per_class = config[\"simule\"][\"class\"][\"max_students_per_class\"]\n",
    "    hours_per_week = config[\"simule\"][\"class\"][\"hours_per_week\"]\n",
    "    hours_per_lecture = config[\"simule\"][\"class\"][\"hours_per_lecture\"]\n",
    "    \n",
    "    # Select Mode of Return\n",
    "    modes = config[\"simule\"][\"class\"][\"lectures_per_student\"]\n",
    "    lectures_per_student = modes[selected_mode_return]\n",
    "    \n",
    "    # Determine number of students and faculty allowed to return\n",
    "    num_students = (total_students*perc_students_returning) // 100\n",
    "    num_teachers = (total_teachers*perc_teachers_returning) // 100\n",
    "    \n",
    "    # Calculate total number of lectures per week\n",
    "    num_lectures = floor(hours_per_week / hours_per_lecture)\n",
    "    \n",
    "    # Determine maximum number of lectures given teacher and classroom constraints\n",
    "    room_potential = num_classrooms * num_lectures\n",
    "    teacher_potential = num_teachers * num_lectures\n",
    "    school_capacity = max_students_per_class*min(room_potential, teacher_potential)\n",
    "    \n",
    "    # Adjust for number of lectures per student per week\n",
    "    school_capacity = school_capacity // lectures_per_student\n",
    "    \n",
    "    # Calculate number of actual returning students and teachers\n",
    "    num_returning_students = min(num_students, school_capacity)\n",
    "    num_returning_teachers = num_teachers\n",
    "    \n",
    "    return num_returning_students, num_returning_teachers"
   ]
  },
  {
   "cell_type": "markdown",
   "metadata": {},
   "source": [
    "### Testes"
   ]
  },
  {
   "cell_type": "code",
   "execution_count": 5,
   "metadata": {},
   "outputs": [],
   "source": [
    "total_students = 1000\n",
    "total_teachers = 20\n",
    "perc_students_returning = 70\n",
    "perc_teachers_returning = 10\n",
    "num_classrooms = 10"
   ]
  },
  {
   "cell_type": "markdown",
   "metadata": {},
   "source": [
    "#### Abordagem Equitativa"
   ]
  },
  {
   "cell_type": "code",
   "execution_count": 6,
   "metadata": {},
   "outputs": [],
   "source": [
    "students_eq, teachers_eq = get_school_return_projections(total_students, total_teachers, perc_students_returning, perc_teachers_returning, num_classrooms, \"equitative\", config)"
   ]
  },
  {
   "cell_type": "code",
   "execution_count": 26,
   "metadata": {},
   "outputs": [
    {
     "name": "stdout",
     "output_type": "stream",
     "text": [
      "----Base Parameters----\n",
      "Total Students: 1000\n",
      "Total Teachers: 20\n",
      "Percentage of Students Returning: 70%\n",
      "Percentage of Teachers Returning: 10%\n",
      "Number of Classrooms: 10\n",
      "\n",
      "--------Results--------\n",
      "Students: 600\n",
      "Teachers: 2\n"
     ]
    }
   ],
   "source": [
    "print(\"----Base Parameters----\\nTotal Students: {}\\nTotal Teachers: {}\\nPercentage of Students Returning: {}%\\nPercentage of Teachers Returning: {}%\\nNumber of Classrooms: {}\\n\".format(total_students, total_teachers, perc_students_returning, perc_teachers_returning, num_classrooms))\n",
    "print(\"--------Results--------\\nStudents: {}\\nTeachers: {}\".format(students_eq,teachers_eq))"
   ]
  },
  {
   "cell_type": "markdown",
   "metadata": {},
   "source": [
    "#### Abordagem Prioritária"
   ]
  },
  {
   "cell_type": "code",
   "execution_count": 27,
   "metadata": {},
   "outputs": [],
   "source": [
    "students_pr, teachers_pr = get_school_return_projections(1000, 20, 70, 10, 10, \"priority\", config)"
   ]
  },
  {
   "cell_type": "code",
   "execution_count": 28,
   "metadata": {},
   "outputs": [
    {
     "name": "stdout",
     "output_type": "stream",
     "text": [
      "----Base Parameters----\n",
      "Total Students: 1000\n",
      "Total Teachers: 20\n",
      "Percentage of Students Returning: 70%\n",
      "Percentage of Teachers Returning: 10%\n",
      "Number of Classrooms: 10\n",
      "\n",
      "--------Results--------\n",
      "Students: 120\n",
      "Teachers: 2\n"
     ]
    }
   ],
   "source": [
    "print(\"----Base Parameters----\\nTotal Students: {}\\nTotal Teachers: {}\\nPercentage of Students Returning: {}%\\nPercentage of Teachers Returning: {}%\\nNumber of Classrooms: {}\\n\".format(total_students, total_teachers, perc_students_returning, perc_teachers_returning, num_classrooms))\n",
    "print(\"--------Results--------\\nStudents: {}\\nTeachers: {}\".format(students_pr,teachers_pr))"
   ]
  },
  {
   "cell_type": "markdown",
   "metadata": {},
   "source": [
    "## Materiais Escolares"
   ]
  },
  {
   "cell_type": "code",
   "execution_count": 41,
   "metadata": {},
   "outputs": [],
   "source": [
    "def get_school_return_supplies(num_returning_students, num_returning_teachers, selected_mode_return, config):\n",
    "    \"\"\" \n",
    "    Calculates number of school supplies given number of return students and faculty.\n",
    "    \n",
    "    Parameters\n",
    "    ----------\n",
    "        num_returning_students : int or float\n",
    "            Number of returning students.\n",
    "        num_returning_teachers : int or float\n",
    "            Number of returning teachers.\n",
    "        selected_mode_return : string\n",
    "            Mode of return to school (e.g. priority, equitative...).\n",
    "        config : dict\n",
    "            General school return parameters.\n",
    "    \n",
    "    Returns\n",
    "    -------\n",
    "        total_masks : int\n",
    "            Total number of masks required.\n",
    "        total_sanitizer : int or float\n",
    "            Total amount of hand sanitizer required.\n",
    "        total_thermometers : int\n",
    "            Total amount of thermometers required.\n",
    "    \"\"\"\n",
    "    \n",
    "    # Load Fixed Parameters\n",
    "    \n",
    "    # Protection Equipment and Cleaning Supplies\n",
    "    mask_time_limit = config[\"simule\"][\"supplies\"][\"mask_time_limit\"]\n",
    "    sanitizer_per_person_per_hour = config[\"simule\"][\"supplies\"][\"sanitizer_per_person_per_hour\"]\n",
    "    people_per_thermometer = config[\"simule\"][\"supplies\"][\"people_per_thermometer\"]\n",
    "    \n",
    "    # Class Hours and Composition\n",
    "    max_students_per_class = config[\"simule\"][\"class\"][\"max_students_per_class\"]\n",
    "    hours_per_lecture = config[\"simule\"][\"class\"][\"hours_per_lecture\"]\n",
    "    lectures_per_student = config[\"simule\"][\"class\"][\"lectures_per_student\"][selected_mode_return]\n",
    "    \n",
    "    # Determine Masks and Hand Sanitizer for Students\n",
    "    hours_per_student = lectures_per_student * hours_per_lecture\n",
    "    \n",
    "    masks_per_student = ceil(hours_per_student / mask_time_limit)\n",
    "    student_masks = num_returning_students * masks_per_student\n",
    "    student_sanitizer = num_returning_students * hours_per_student * sanitizer_per_person_per_hour\n",
    "    \n",
    "    # Determine Masks and Hand Sanitizer for Teachers\n",
    "    student_hours = num_returning_students * lectures_per_student * hours_per_lecture\n",
    "    class_hours = student_hours / max_students_per_class\n",
    "    hours_per_teacher = class_hours / num_returning_teachers\n",
    "    \n",
    "    masks_per_teacher = ceil( hours_per_teacher / mask_time_limit)\n",
    "    teacher_masks = num_returning_teachers * masks_per_teacher\n",
    "    teacher_sanitizer = num_returning_teachers * hours_per_teacher * sanitizer_per_person_per_hour\n",
    "    \n",
    "    # Determine Total Quantities of Masks and Hand Sanitizer\n",
    "    total_masks = student_masks + teacher_masks\n",
    "    total_sanitizer = student_sanitizer + teacher_sanitizer\n",
    "    \n",
    "    # Determine Number of Thermometers\n",
    "    total_thermometers = ceil(num_returning_students / people_per_thermometer)\n",
    "    \n",
    "    return total_masks, total_sanitizer, total_thermometers"
   ]
  },
  {
   "cell_type": "markdown",
   "metadata": {},
   "source": [
    "### Testes"
   ]
  },
  {
   "cell_type": "markdown",
   "metadata": {},
   "source": [
    "#### Abordagem Equitativa"
   ]
  },
  {
   "cell_type": "code",
   "execution_count": 42,
   "metadata": {},
   "outputs": [],
   "source": [
    "masks_eq, sanitizer_eq, thermo_eq = get_school_return_supplies(students_eq, teachers_eq, \"equitative\", config)"
   ]
  },
  {
   "cell_type": "code",
   "execution_count": 45,
   "metadata": {},
   "outputs": [
    {
     "name": "stdout",
     "output_type": "stream",
     "text": [
      "----Base Parameters----\n",
      "Students: 600\n",
      "Teachers: 2\n",
      "\n",
      "--------Results--------\n",
      "Masks: 628\n",
      "Sanitizer: 2.56\n",
      "Thermometers: 6\n"
     ]
    }
   ],
   "source": [
    "print(\"----Base Parameters----\\nStudents: {}\\nTeachers: {}\\n\".format(students_eq, teachers_eq))\n",
    "print(\"--------Results--------\\nMasks: {}\\nSanitizer: {}\\nThermometers: {}\".format(masks_eq, sanitizer_eq, thermo_eq))"
   ]
  },
  {
   "cell_type": "markdown",
   "metadata": {},
   "source": [
    "#### Abordagem Prioritária"
   ]
  },
  {
   "cell_type": "code",
   "execution_count": 46,
   "metadata": {},
   "outputs": [],
   "source": [
    "masks_pr, sanitizer_pr, thermo_pr = get_school_return_supplies(students_eq, teachers_eq, \"priority\", config)"
   ]
  },
  {
   "cell_type": "code",
   "execution_count": 47,
   "metadata": {},
   "outputs": [
    {
     "name": "stdout",
     "output_type": "stream",
     "text": [
      "----Base Parameters----\n",
      "Students: 600\n",
      "Teachers: 2\n",
      "\n",
      "--------Results--------\n",
      "Masks: 2534\n",
      "Sanitizer: 12.8\n",
      "Thermometers: 6\n"
     ]
    }
   ],
   "source": [
    "print(\"----Base Parameters----\\nStudents: {}\\nTeachers: {}\\n\".format(students_eq, teachers_eq))\n",
    "print(\"--------Results--------\\nMasks: {}\\nSanitizer: {}\\nThermometers: {}\".format(masks_pr, sanitizer_pr, thermo_pr))"
   ]
  },
  {
   "cell_type": "code",
   "execution_count": null,
   "metadata": {},
   "outputs": [],
   "source": []
  }
 ],
 "metadata": {
  "kernelspec": {
   "display_name": "internal_analysis",
   "language": "python",
   "name": "internal_analysis"
  },
  "language_info": {
   "codemirror_mode": {
    "name": "ipython",
    "version": 3
   },
   "file_extension": ".py",
   "mimetype": "text/x-python",
   "name": "python",
   "nbconvert_exporter": "python",
   "pygments_lexer": "ipython3",
   "version": "3.8.3"
  },
  "varInspector": {
   "cols": {
    "lenName": 16,
    "lenType": 16,
    "lenVar": 40
   },
   "kernels_config": {
    "python": {
     "delete_cmd_postfix": "",
     "delete_cmd_prefix": "del ",
     "library": "var_list.py",
     "varRefreshCmd": "print(var_dic_list())"
    },
    "r": {
     "delete_cmd_postfix": ") ",
     "delete_cmd_prefix": "rm(",
     "library": "var_list.r",
     "varRefreshCmd": "cat(var_dic_list()) "
    }
   },
   "types_to_exclude": [
    "module",
    "function",
    "builtin_function_or_method",
    "instance",
    "_Feature"
   ],
   "window_display": false
  }
 },
 "nbformat": 4,
 "nbformat_minor": 4
}
