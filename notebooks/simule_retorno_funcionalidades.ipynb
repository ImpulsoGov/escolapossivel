{
 "cells": [
  {
   "cell_type": "markdown",
   "metadata": {},
   "source": [
    "# Simule o Retorno - Funcionalidades"
   ]
  },
  {
   "cell_type": "markdown",
   "metadata": {},
   "source": [
    "**Objetivo:** Obter projeções do número de alunos retornando às atividades escolares.\n",
    "\n",
    "**Autor:** Leonardo Dantas\n",
    "\n",
    "**Código base:** 872ca11"
   ]
  },
  {
   "cell_type": "markdown",
   "metadata": {},
   "source": [
    "## Bibliotecas"
   ]
  },
  {
   "cell_type": "code",
   "execution_count": null,
   "metadata": {},
   "outputs": [],
   "source": [
    "import pandas as pd\n",
    "from math import floor, ceil"
   ]
  },
  {
   "cell_type": "markdown",
   "metadata": {},
   "source": [
    "## Retorno de Alunos e Professores"
   ]
  },
  {
   "cell_type": "code",
   "execution_count": null,
   "metadata": {},
   "outputs": [],
   "source": [
    "def get_school_return_projections(total_students, total_teachers, perc_students_returning, perc_teachers_returning, \n",
    "                                  num_classrooms, selected_mode_return, config):\n",
    "    \"\"\" \n",
    "    Calculates projected number of students and teachers returning to school.\n",
    "    \n",
    "    Parameters\n",
    "    ----------\n",
    "        total_students : int or float\n",
    "            Total number of students in the school system.\n",
    "        total_teachers : int or float\n",
    "            Total number of teachers in the school system.\n",
    "        perc_students_returning : int or float\n",
    "            Percentage of students allowed to return. Range 0-100.\n",
    "        perc_teachers_returning: int or float\n",
    "            Percentage of teachers allowed to return. Range 0-100.\n",
    "        num_classrooms : int or float\n",
    "            Number of classrooms available.\n",
    "        selected_mode_return : string\n",
    "            Mode of return to school (e.g. priority, equitative...).\n",
    "        config : dict\n",
    "            General school return parameters.\n",
    "    \n",
    "    Returns\n",
    "    -------\n",
    "        num_returning_students : int\n",
    "            Projected numbers of students returning to school.\n",
    "        num_returning_teachers : int\n",
    "            Project number of teachers returning to school.\n",
    "    \"\"\"\n",
    "\n",
    "    # Load Fixed Parameters\n",
    "    max_students_per_class = config[\"max_students_per_class\"]\n",
    "    hours_per_week = config[\"hours_per_week\"]\n",
    "    hours_per_lecture = config[\"hours_per_lecture\"]\n",
    "    lectures_per_student = config[\"lectures_per_student\"]\n",
    "    \n",
    "    # Select Mode of Return\n",
    "    modes = config[\"modes\"]\n",
    "    lectures_per_student = modes[selected_mode_return]\n",
    "    \n",
    "    # Determine number of students and faculty allowed to return\n",
    "    num_students = (total_students*perc_students_returning) // 100\n",
    "    num_teachers = (total_teachers*perc_teachers_returning) //100\n",
    "    \n",
    "    # Calculate total number of lectures per week\n",
    "    num_lectures = floor(hours_per_week / hours_per_lecture)\n",
    "    \n",
    "    # Determine maximimum number of lectures given teacher and classroom constraints\n",
    "    room_potential = num_classrooms * num_lectures\n",
    "    teacher_potential = num_teachers * num_lectures\n",
    "    school_capacity = max_students_per_class*min(room_potential, teacher_potential)\n",
    "    \n",
    "    # Adjust for number of lectures per student per week\n",
    "    school_capacity = school_capacity // classes_per_student\n",
    "    \n",
    "    # Calculate number of actual returning students and teachers\n",
    "    num_returning_students = min(num_students, school_capacity)\n",
    "    num_returning_teachers = ceil(num_returning_students / max_students_per_class)\n",
    "    \n",
    "    return num_returning_students, num_returning_teachers"
   ]
  },
  {
   "cell_type": "markdown",
   "metadata": {},
   "source": [
    "### Testes"
   ]
  },
  {
   "cell_type": "code",
   "execution_count": null,
   "metadata": {},
   "outputs": [],
   "source": []
  },
  {
   "cell_type": "code",
   "execution_count": null,
   "metadata": {},
   "outputs": [],
   "source": []
  },
  {
   "cell_type": "code",
   "execution_count": 2,
   "metadata": {},
   "outputs": [
    {
     "name": "stdout",
     "output_type": "stream",
     "text": [
      "240\n"
     ]
    }
   ],
   "source": [
    "# Prioritário\n",
    "test1 = get_returning_students(1000, 5, 2, 2*5, 15, 5)\n",
    "print(test1)"
   ]
  },
  {
   "cell_type": "code",
   "execution_count": 3,
   "metadata": {},
   "outputs": [
    {
     "name": "stdout",
     "output_type": "stream",
     "text": [
      "1000\n"
     ]
    }
   ],
   "source": [
    "# Equitativo\n",
    "test2 = get_returning_students(1000, 5, 2, 2*5, 15, 1)\n",
    "print(test2)"
   ]
  },
  {
   "cell_type": "markdown",
   "metadata": {},
   "source": [
    "## Materiais Escolares"
   ]
  },
  {
   "cell_type": "code",
   "execution_count": null,
   "metadata": {},
   "outputs": [],
   "source": [
    "def get_school_return_supplies(num_returning_students, num_returning_teachers, config):\n",
    "    \"\"\" \n",
    "    Calculates number of school supplies given number of return students and faculty.\n",
    "    \n",
    "    Parameters\n",
    "    ----------\n",
    "        num_returning_students : int or float\n",
    "            Number of returning students.\n",
    "        num_returning_teachers : int or float\n",
    "            Number of returning teachers.\n",
    "        config : dict\n",
    "            General school return parameters.\n",
    "    \n",
    "    Returns\n",
    "    -------\n",
    "        total_masks : int\n",
    "            Total number of masks required.\n",
    "        total_sanitizer : int or float\n",
    "            Total amount of hand sanitizer required.\n",
    "        total_thermometers : int\n",
    "            Total amount of thermometers required.\n",
    "    \"\"\"\n",
    "    \n",
    "    # Load Fixed Parameters\n",
    "    \n",
    "    # Protection and Cleaning Supplies\n",
    "    masks_per_person = config[\"masks_per_student\"]\n",
    "    mask_time_limit = config[\"mask_time_limit\"]\n",
    "    sanitizer_per_person = config[\"sanitizer_per_person\"]\n",
    "    people_per_thermometer = config[\"people per thermometer\"]\n",
    "    \n",
    "    # Class Hours and Composition\n",
    "    max_students_per_class = config[\"max_students_per_class\"]\n",
    "    hours_per_lecture = config[\"hours_per_lecture\"]\n",
    "    lectures_per_student = config[\"lectures_per_student\"]\n",
    "    \n",
    "    # Determine Number of Masks for Students\n",
    "    hours_per_student = lectures_per_student * hours_per_lecture \n",
    "    masks_per_student = ceil(hours_per_student / mask_time_limit)\n",
    "    student_masks = num_returning_students * masks_per_student\n",
    "    \n",
    "    # Determine Number of Masks for Teachers\n",
    "    student_hours = num_returning_students * lectures_per_student * hours_per_lecture\n",
    "    class_hours = ceil(student_hours / max_students_per_class)\n",
    "    hours_per_teacher = ceil(class_hours / num_returning_teachers)\n",
    "    masks_per_teacher = ceil( hours_per_teacher / mask_time_limit)\n",
    "    teacher_masks = num_returning_teachers * masks_per_teacher\n",
    "    \n",
    "    # Determine Total Numbers of Masks Required\n",
    "    total_masks = student_masks + teacher_masks\n",
    "    \n",
    "    # Determine Hand Sanitizer and Thermometer Quantities\n",
    "    total_sanitizer = (num_returning_students + num_returning_teachers) * sanitizer_per_person\n",
    "    total_thermometers = ceil(num_returning_students / people_per_thermometer)\n",
    "    \n",
    "    return total_masks, total_sanitizer, total_thermometers"
   ]
  }
 ],
 "metadata": {
  "kernelspec": {
   "display_name": "internal_analysis",
   "language": "python",
   "name": "internal_analysis"
  },
  "language_info": {
   "codemirror_mode": {
    "name": "ipython",
    "version": 3
   },
   "file_extension": ".py",
   "mimetype": "text/x-python",
   "name": "python",
   "nbconvert_exporter": "python",
   "pygments_lexer": "ipython3",
   "version": "3.8.3"
  },
  "varInspector": {
   "cols": {
    "lenName": 16,
    "lenType": 16,
    "lenVar": 40
   },
   "kernels_config": {
    "python": {
     "delete_cmd_postfix": "",
     "delete_cmd_prefix": "del ",
     "library": "var_list.py",
     "varRefreshCmd": "print(var_dic_list())"
    },
    "r": {
     "delete_cmd_postfix": ") ",
     "delete_cmd_prefix": "rm(",
     "library": "var_list.r",
     "varRefreshCmd": "cat(var_dic_list()) "
    }
   },
   "types_to_exclude": [
    "module",
    "function",
    "builtin_function_or_method",
    "instance",
    "_Feature"
   ],
   "window_display": false
  }
 },
 "nbformat": 4,
 "nbformat_minor": 4
}
