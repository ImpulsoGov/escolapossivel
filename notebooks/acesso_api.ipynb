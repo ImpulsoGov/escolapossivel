{
 "cells": [
  {
   "cell_type": "markdown",
   "metadata": {},
   "source": [
    "# Acesso API"
   ]
  },
  {
   "cell_type": "markdown",
   "metadata": {},
   "source": [
    "**Objetivo:** Elaborar funções do simulador a partir de dados da API.\n",
    "\n",
    "**Autor:** Leonardo Dantas\n",
    "\n",
    "**Código base:** 872ca11"
   ]
  },
  {
   "cell_type": "markdown",
   "metadata": {},
   "source": [
    "## Bibliotecas"
   ]
  },
  {
   "cell_type": "code",
   "execution_count": null,
   "metadata": {},
   "outputs": [],
   "source": []
  },
  {
   "cell_type": "markdown",
   "metadata": {},
   "source": [
    "## Calculadora de Retorno"
   ]
  },
  {
   "cell_type": "code",
   "execution_count": 45,
   "metadata": {},
   "outputs": [],
   "source": [
    "def get_returning_students(num_students, num_teachers, num_classrooms, num_timeslots, students_per_class, classes_per_student):\n",
    "    \"\"\" \n",
    "    Calculates the number of students returning to school.\n",
    "    \n",
    "    Parameters\n",
    "    ----------\n",
    "        num_students : int or float\n",
    "            Number of students with permission to return to class.\n",
    "        num_teachers : int or float\n",
    "            Number of teachers available.\n",
    "        num_classrooms : int or float\n",
    "            Number of classrooms available.\n",
    "        num_timeslots : int or float\n",
    "            Number of timeslots available.\n",
    "        students_per_class : int or float\n",
    "            Maximum number of students per class\n",
    "        classes_per_student: int of float\n",
    "            Number of classes per student per week. Measured in timeslots.\n",
    "    \n",
    "    Returns\n",
    "    -------\n",
    "        num_returnees : float\n",
    "            Numbers of students the school the school will receive.\n",
    "    \"\"\"\n",
    "    \n",
    "    # Calculate potential number of classes given teacher and classroom constraints\n",
    "    room_potential = num_classrooms * num_timeslots\n",
    "    teacher_potential = num_teachers * num_timeslots\n",
    "    school_capacity = students_per_class*min(room_potential, teacher_potential)\n",
    "    \n",
    "    # Adjust for number of classes per student per week\n",
    "    school_capacity = school_capacity / classes_per_student\n",
    "    \n",
    "    # Calculate number of actual returnees\n",
    "    num_returnees = min(num_students, school_capacity)\n",
    "    \n",
    "    return num_returnees"
   ]
  },
  {
   "cell_type": "markdown",
   "metadata": {},
   "source": [
    "## Testes"
   ]
  },
  {
   "cell_type": "code",
   "execution_count": 56,
   "metadata": {},
   "outputs": [
    {
     "name": "stdout",
     "output_type": "stream",
     "text": [
      "1000\n"
     ]
    }
   ],
   "source": [
    "test1 = get_returning_students(1000, 5, 2, 8*5, 15, 5)\n",
    "print(test1)"
   ]
  },
  {
   "cell_type": "code",
   "execution_count": 58,
   "metadata": {},
   "outputs": [
    {
     "name": "stdout",
     "output_type": "stream",
     "text": [
      "240.0\n"
     ]
    }
   ],
   "source": [
    "test2 = get_returning_students(1000, 5, 2, 8*5, 15, 1)\n",
    "print(test2)"
   ]
  },
  {
   "cell_type": "code",
   "execution_count": 39,
   "metadata": {},
   "outputs": [],
   "source": [
    "test2 = get_returning_students(100,10,30,2,15)\n",
    "print(test2)"
   ]
  },
  {
   "cell_type": "code",
   "execution_count": 40,
   "metadata": {},
   "outputs": [],
   "source": [
    "test3 = get_returning_students(100,20,30,10,15)\n",
    "print(test3)"
   ]
  },
  {
   "cell_type": "code",
   "execution_count": 41,
   "metadata": {},
   "outputs": [],
   "source": [
    "test4 = get_returning_students(100,20,30,10,15)\n",
    "print(test1)"
   ]
  },
  {
   "cell_type": "code",
   "execution_count": null,
   "metadata": {},
   "outputs": [],
   "source": []
  },
  {
   "cell_type": "code",
   "execution_count": null,
   "metadata": {},
   "outputs": [],
   "source": []
  }
 ],
 "metadata": {
  "kernelspec": {
   "display_name": "internal_analysis",
   "language": "python",
   "name": "internal_analysis"
  },
  "language_info": {
   "codemirror_mode": {
    "name": "ipython",
    "version": 3
   },
   "file_extension": ".py",
   "mimetype": "text/x-python",
   "name": "python",
   "nbconvert_exporter": "python",
   "pygments_lexer": "ipython3",
   "version": "3.8.3"
  },
  "varInspector": {
   "cols": {
    "lenName": 16,
    "lenType": 16,
    "lenVar": 40
   },
   "kernels_config": {
    "python": {
     "delete_cmd_postfix": "",
     "delete_cmd_prefix": "del ",
     "library": "var_list.py",
     "varRefreshCmd": "print(var_dic_list())"
    },
    "r": {
     "delete_cmd_postfix": ") ",
     "delete_cmd_prefix": "rm(",
     "library": "var_list.r",
     "varRefreshCmd": "cat(var_dic_list()) "
    }
   },
   "types_to_exclude": [
    "module",
    "function",
    "builtin_function_or_method",
    "instance",
    "_Feature"
   ],
   "window_display": false
  }
 },
 "nbformat": 4,
 "nbformat_minor": 4
}
