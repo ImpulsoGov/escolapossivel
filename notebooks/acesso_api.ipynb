{
 "cells": [
  {
   "cell_type": "markdown",
   "metadata": {},
   "source": [
    "# Acesso API"
   ]
  },
  {
   "cell_type": "markdown",
   "metadata": {},
   "source": [
    "**Objetivo:** Elaborar funções do simulador a partir de dados da API.\n",
    "\n",
    "**Autor:** Leonardo Dantas\n",
    "\n",
    "**Código base:** 872ca11"
   ]
  },
  {
   "cell_type": "markdown",
   "metadata": {},
   "source": [
    "## Bibliotecas"
   ]
  },
  {
   "cell_type": "code",
   "execution_count": null,
   "metadata": {},
   "outputs": [],
   "source": []
  },
  {
   "cell_type": "markdown",
   "metadata": {},
   "source": [
    "## Calculadora de Retorno"
   ]
  },
  {
   "cell_type": "code",
   "execution_count": 1,
   "metadata": {},
   "outputs": [],
   "source": [
    "def get_returning_students(num_students, num_teachers, num_classrooms, num_periods, students_per_class):\n",
    "    \"\"\" \n",
    "    Calculates the number of returning students given teacher, classroom, and time constraints.\n",
    "    \n",
    "    Parameters\n",
    "    ----------\n",
    "        num_students : int or float\n",
    "            Number of students with permission to return to class.\n",
    "        num_teachers : int or float\n",
    "            Number of teachers available.\n",
    "        num_classrooms : int or float\n",
    "            Number of classrooms available.\n",
    "        num_periods : int or float\n",
    "            Number of time periods available.\n",
    "    \n",
    "    Returns\n",
    "    -------\n",
    "        num_returnees : int or float\n",
    "            Numbers of students the school is able to receive.\n",
    "    \"\"\"\n",
    "    \n",
    "    # Calculate potential number of classes\n",
    "    room_potential = num_classrooms * num_periods\n",
    "    teacher_potential = num_teachers * num_periods\n",
    "    \n",
    "    # Estimate school capacity based on number of classes\n",
    "    school_capacity = students_per_class*min(room_potential, teacher_potential)\n",
    "    \n",
    "    # Calculate number of actual returnees\n",
    "    num_returnees = min(num_students, school_capacity)\n",
    "    \n",
    "    return num_returnees"
   ]
  },
  {
   "cell_type": "markdown",
   "metadata": {},
   "source": [
    "## Testes"
   ]
  },
  {
   "cell_type": "code",
   "execution_count": 2,
   "metadata": {},
   "outputs": [
    {
     "name": "stdout",
     "output_type": "stream",
     "text": [
      "500\n"
     ]
    }
   ],
   "source": [
    "test1 = get_returning_students(500,20,30,2,15)\n",
    "print(test1)"
   ]
  },
  {
   "cell_type": "code",
   "execution_count": 3,
   "metadata": {},
   "outputs": [
    {
     "name": "stdout",
     "output_type": "stream",
     "text": [
      "300\n"
     ]
    }
   ],
   "source": [
    "test2 = get_returning_students(500,10,30,2,15)\n",
    "print(test2)"
   ]
  }
 ],
 "metadata": {
  "kernelspec": {
   "display_name": "internal_analysis",
   "language": "python",
   "name": "internal_analysis"
  },
  "language_info": {
   "codemirror_mode": {
    "name": "ipython",
    "version": 3
   },
   "file_extension": ".py",
   "mimetype": "text/x-python",
   "name": "python",
   "nbconvert_exporter": "python",
   "pygments_lexer": "ipython3",
   "version": "3.8.3"
  },
  "varInspector": {
   "cols": {
    "lenName": 16,
    "lenType": 16,
    "lenVar": 40
   },
   "kernels_config": {
    "python": {
     "delete_cmd_postfix": "",
     "delete_cmd_prefix": "del ",
     "library": "var_list.py",
     "varRefreshCmd": "print(var_dic_list())"
    },
    "r": {
     "delete_cmd_postfix": ") ",
     "delete_cmd_prefix": "rm(",
     "library": "var_list.r",
     "varRefreshCmd": "cat(var_dic_list()) "
    }
   },
   "types_to_exclude": [
    "module",
    "function",
    "builtin_function_or_method",
    "instance",
    "_Feature"
   ],
   "window_display": false
  }
 },
 "nbformat": 4,
 "nbformat_minor": 4
}
