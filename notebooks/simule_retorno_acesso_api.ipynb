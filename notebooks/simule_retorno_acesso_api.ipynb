{
 "cells": [
  {
   "cell_type": "markdown",
   "metadata": {},
   "source": [
    "# Simule o Retorno - Acesso API"
   ]
  },
  {
   "cell_type": "markdown",
   "metadata": {},
   "source": [
    "**Objetivo:** Obter projeções do número de alunos retornando às atividades escolares. Funções do simulador construídas a partir de dados da API.\n",
    "\n",
    "**Autor:** Leonardo Dantas\n",
    "\n",
    "**Código base:** 872ca11"
   ]
  },
  {
   "cell_type": "markdown",
   "metadata": {},
   "source": [
    "## Bibliotecas"
   ]
  },
  {
   "cell_type": "code",
   "execution_count": null,
   "metadata": {},
   "outputs": [],
   "source": [
    "import pandas as pd"
   ]
  },
  {
   "cell_type": "markdown",
   "metadata": {},
   "source": [
    "## Integração"
   ]
  },
  {
   "cell_type": "code",
   "execution_count": null,
   "metadata": {},
   "outputs": [],
   "source": [
    "def get_school_return_projections(data_source, perc_teachers_returning, perc_students_returning):\n",
    "    \"\"\" \n",
    "    Calculates projection of students returning to school.\n",
    "    \n",
    "    Parameters\n",
    "    ----------\n",
    "        data_source : string\n",
    "            Path of school data CSV file. Either local path or URL.\n",
    "        perc_teachers_returning: int or float\n",
    "            Percentage of teachers allowed to return. Range 0-100.\n",
    "        perc_students_returning : int or float\n",
    "            Percentage of students allowed to return. Range 0-100.\n",
    "    \n",
    "    Returns\n",
    "    -------\n",
    "        num_returning_students : int\n",
    "            Numbers of students the school is projected to receive under selected criteria.\n",
    "    \"\"\"\n",
    "    \n",
    "    # Load School Data\n",
    "    school_df = pd.read_csv(data_source)\n",
    "    \n",
    "    # Extract Data\n",
    "    #\n",
    "    # ...\n",
    "    #\n",
    "    \n",
    "    # Load Parameters\n",
    "    #\n",
    "    # ...\n",
    "    #\n",
    "    \n",
    "    # Select Mode of Return\n",
    "    if mode = \"equitative\":\n",
    "        # Equitative\n",
    "        classes_per_student = 1 #placeholder\n",
    "    else:\n",
    "        # Priority\n",
    "        classes_per_student = 5 #placeholder\n",
    "    \n",
    "    # Calculate Number of Returning Students\n",
    "    num_returning_students = get_returning_students(num_students, num_teachers, num_classrooms, num_timeslots, students_per_class, classes_per_student)"
   ]
  },
  {
   "cell_type": "markdown",
   "metadata": {},
   "source": [
    "## Calculadora de Retorno"
   ]
  },
  {
   "cell_type": "code",
   "execution_count": 1,
   "metadata": {},
   "outputs": [],
   "source": [
    "def get_returning_students(num_students, num_teachers, num_classrooms, num_timeslots, students_per_class, classes_per_student):\n",
    "    \"\"\" \n",
    "    Calculates the number of students returning to school.\n",
    "    \n",
    "    Parameters\n",
    "    ----------\n",
    "        num_students : int or float\n",
    "            Number of students with permission to return to class.\n",
    "        num_teachers : int or float\n",
    "            Number of teachers available.\n",
    "        num_classrooms : int or float\n",
    "            Number of classrooms available.\n",
    "        num_timeslots : int or float\n",
    "            Number of timeslots available.\n",
    "        students_per_class : int or float\n",
    "            Maximum number of students per class.\n",
    "        classes_per_student: int or float\n",
    "            Number of classes per student per week. Measured in timeslots.\n",
    "    \n",
    "    Returns\n",
    "    -------\n",
    "        num_returning_students : int\n",
    "            Numbers of students the school will receive.\n",
    "    \"\"\"\n",
    "    \n",
    "    # Calculate potential number of classes given teacher and classroom constraints\n",
    "    room_potential = num_classrooms * num_timeslots\n",
    "    teacher_potential = num_teachers * num_timeslots\n",
    "    school_capacity = students_per_class*min(room_potential, teacher_potential)\n",
    "    \n",
    "    # Adjust for number of classes per student per week\n",
    "    school_capacity = school_capacity // classes_per_student\n",
    "    \n",
    "    # Calculate number of actual returnees\n",
    "    num_returning_students = min(num_students, school_capacity)\n",
    "    \n",
    "    return num_returning_students"
   ]
  },
  {
   "cell_type": "markdown",
   "metadata": {},
   "source": [
    "### Testes"
   ]
  },
  {
   "cell_type": "code",
   "execution_count": 2,
   "metadata": {},
   "outputs": [
    {
     "name": "stdout",
     "output_type": "stream",
     "text": [
      "240\n"
     ]
    }
   ],
   "source": [
    "# Prioritário\n",
    "test1 = get_returning_students(1000, 5, 2, 8*5, 15, 5)\n",
    "print(test1)"
   ]
  },
  {
   "cell_type": "code",
   "execution_count": 3,
   "metadata": {},
   "outputs": [
    {
     "name": "stdout",
     "output_type": "stream",
     "text": [
      "1000\n"
     ]
    }
   ],
   "source": [
    "# Equitativo\n",
    "test2 = get_returning_students(1000, 5, 2, 8*5, 15, 1)\n",
    "print(test2)"
   ]
  },
  {
   "cell_type": "markdown",
   "metadata": {},
   "source": [
    "## Obtenção de Dados"
   ]
  },
  {
   "cell_type": "code",
   "execution_count": null,
   "metadata": {},
   "outputs": [],
   "source": [
    "def get_school_data(data_source):\n",
    "    \"\"\" \n",
    "    Loads dataframe with school data.\n",
    "    \n",
    "    Parameters\n",
    "    ----------\n",
    "        data_source : string\n",
    "            Path of school data CSV file. Either local path or URL.\n",
    "    \n",
    "    Returns\n",
    "    -------\n",
    "        school_df : pd.DataFrame\n",
    "            Dataframe with school data.\n",
    "    \"\"\"\n",
    "    \n",
    "    school_df = pd.read_csv(data_source)"
   ]
  }
 ],
 "metadata": {
  "kernelspec": {
   "display_name": "internal_analysis",
   "language": "python",
   "name": "internal_analysis"
  },
  "language_info": {
   "codemirror_mode": {
    "name": "ipython",
    "version": 3
   },
   "file_extension": ".py",
   "mimetype": "text/x-python",
   "name": "python",
   "nbconvert_exporter": "python",
   "pygments_lexer": "ipython3",
   "version": "3.8.3"
  },
  "varInspector": {
   "cols": {
    "lenName": 16,
    "lenType": 16,
    "lenVar": 40
   },
   "kernels_config": {
    "python": {
     "delete_cmd_postfix": "",
     "delete_cmd_prefix": "del ",
     "library": "var_list.py",
     "varRefreshCmd": "print(var_dic_list())"
    },
    "r": {
     "delete_cmd_postfix": ") ",
     "delete_cmd_prefix": "rm(",
     "library": "var_list.r",
     "varRefreshCmd": "cat(var_dic_list()) "
    }
   },
   "types_to_exclude": [
    "module",
    "function",
    "builtin_function_or_method",
    "instance",
    "_Feature"
   ],
   "window_display": false
  }
 },
 "nbformat": 4,
 "nbformat_minor": 4
}
